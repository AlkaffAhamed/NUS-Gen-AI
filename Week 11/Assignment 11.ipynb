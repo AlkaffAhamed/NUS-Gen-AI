{
 "cells": [
  {
   "cell_type": "markdown",
   "id": "b8fbe0df-6d8c-4d19-b15a-2ff9a1cb1dc4",
   "metadata": {},
   "source": [
    "# Week 11: Capstone Project Part 4\n",
    "\n",
    "- Done by: A Alkaff Ahamed\n",
    "- Grade: Pending\n",
    "- 25 June 2025\n"
   ]
  },
  {
   "cell_type": "markdown",
   "id": "5a937b9f-2b6c-43ee-bb1a-e8dd960692ce",
   "metadata": {},
   "source": [
    "## Learning Outcome Addressed\n",
    "- Design and implement a Retrieval-Augmented Generation (RAG) pipeline using generative AI tools. \n",
    "- Load and preprocess domain-specific documents, generate vector embeddings, and store them in a vector database. \n",
    "- Deploy a memory-enabled AI assistant capable of delivering contextually grounded responses. \n",
    "- Analyse the application of generative AI in real-world workflows and critically reflect on creative opportunities and ethical considerations. \n"
   ]
  },
  {
   "cell_type": "markdown",
   "id": "ebb0c9c9-3eec-4460-b5d7-fdfbdf8be7e0",
   "metadata": {},
   "source": [
    "## Module Overview \n",
    "\n",
    "This capstone marks a significant step in developing your AI assistant. Moving beyond basic model outputs, you will integrate document ingestion, semantic search, and short-term conversational memory. \n",
    "\n",
    "Using the RAG architecture, your assistant will combine generative capabilities with real-time access to domain-specific documents. This approach reflects how modern AI systems are deployed in industries such as human resources, customer service, legal support, healthcare, and education. \n",
    "\n",
    "Additionally, you will compare this approach to other generative models like Variational Autoencoders (VAEs) and Generative Adversarial Networks (GANs), apply it to creative domains, and evaluate the ethical implications associated with such systems. \n"
   ]
  },
  {
   "cell_type": "markdown",
   "id": "682fc4e6-c3d5-4cb7-95c6-61a5c0f6499b",
   "metadata": {},
   "source": [
    "### Main Tasks \n",
    "\n",
    "#### Task 1: Document Loading and Preprocessing \n",
    "\n",
    "- Select a document in PDF, TXT, or DOCX format related to a professional or creative field (e.g., HR policy, legal documentation, training material, or artistic critique). \n",
    "- Load the document using LangChain loaders such as PyMuPDFLoader or UnstructuredFileLoader. \n",
    "- Preprocess the text using RecursiveCharacterTextSplitter to divide content into meaningful chunks (approximately 500 tokens each). \n",
    "- Display at least three representative chunks from the processed text. \n",
    " \n",
    "\n",
    "#### Task 2: Text Embedding and Vector Store Setup \n",
    "\n",
    "- Use a model such as OpenAIEmbeddings, InstructorEmbeddings, or an equivalent HuggingFace embedding model to generate vector representations of each chunk. \n",
    "- Store the embeddings in a vector database such as FAISS or ChromaDB. \n",
    "- Execute a semantic search query and retrieve the top three most relevant document chunks. \n",
    "- Present the query, the retrieved results, and a brief explanation of your embedding and vector search setup. \n",
    " \n",
    "\n",
    "#### Task 3: Retrieval-Augmented Generation with Conversational Memory \n",
    "\n",
    "- Integrate the vector store with a language model (e.g., GPT-3.5 or GPT-4) using LangChain’s RetrievalQA or conversationalRetrievalChain. \n",
    "- Add memory capability using ConversationBufferMemory or a similar tool. \n",
    "- Simulate a three-turn conversation where each user query builds upon previous context. Ensure that the assistant references retrieved document content accurately. \n",
    "- Highlight how conversational memory was used to enhance context-awareness and continuity.\n"
   ]
  },
  {
   "cell_type": "markdown",
   "id": "dd068489-10a5-41f9-8cca-b6d8a42ac665",
   "metadata": {},
   "source": [
    "**Estimated time:** 60-90 minutes\n",
    "\n",
    "**Submission Instructions:**\n",
    "\n",
    "- Select the **Start Assignment** button at the top right of this page.\n",
    "- Upload your answers in the form of a Word or PDF file.\n",
    "- Upload a zipped folder to the learning platform containing:\n",
    "- **Jupyter Notebook (.ipynb)**\n",
    "  - Code for document loading, chunking, embeddings \n",
    "  - Semantic search queries and outputs \n",
    "  - RAG conversation pipeline with memory \n",
    "- Select the **Submit Assignment** button to submit your responses.\n",
    "\n",
    "*This is a graded and counts towards programme completion. You may attempt this assignment only once.*\n"
   ]
  },
  {
   "cell_type": "markdown",
   "id": "2e39ee66-f3bb-4e7c-a500-558d4ab10e43",
   "metadata": {},
   "source": [
    "## Import Libraries and Setup"
   ]
  },
  {
   "cell_type": "code",
   "execution_count": 1,
   "id": "12740d1e-343b-4cd1-8e72-0b3d4112550e",
   "metadata": {},
   "outputs": [
    {
     "name": "stderr",
     "output_type": "stream",
     "text": [
      "C:\\Users\\Alkaff\\anaconda3\\envs\\lc\\lib\\site-packages\\tqdm\\auto.py:21: TqdmWarning: IProgress not found. Please update jupyter and ipywidgets. See https://ipywidgets.readthedocs.io/en/stable/user_install.html\n",
      "  from .autonotebook import tqdm as notebook_tqdm\n"
     ]
    }
   ],
   "source": [
    "import os\n",
    "#from dotenv import load_dotenv\n",
    "os.environ[\"TRANSFORMERS_NO_TF\"] = \"1\"\n",
    "\n",
    "from langchain.document_loaders import PyMuPDFLoader\n",
    "from langchain.text_splitter import RecursiveCharacterTextSplitter\n",
    "#from langchain_openai import OpenAIEmbeddings, ChatOpenAI\n",
    "from langchain.embeddings import HuggingFaceEmbeddings\n",
    "from langchain.vectorstores import FAISS\n",
    "\n",
    "from langchain.chains import RetrievalQA, ConversationalRetrievalChain\n",
    "from langchain.schema import Document\n",
    "from langchain.memory import ConversationBufferMemory\n",
    "from langchain.llms import HuggingFacePipeline\n",
    "\n",
    "from transformers import AutoTokenizer, AutoModelForCausalLM, pipeline\n"
   ]
  },
  {
   "cell_type": "code",
   "execution_count": 4,
   "id": "1b7cdbed-d58c-44ea-9774-bbf6ee67c221",
   "metadata": {},
   "outputs": [
    {
     "name": "stdout",
     "output_type": "stream",
     "text": [
      "CUDA available: False\n"
     ]
    }
   ],
   "source": [
    "import torch\n",
    "\n",
    "print(\"CUDA available:\", torch.cuda.is_available())\n",
    "if torch.cuda.is_available():\n",
    "    print(\"Using GPU:\", torch.cuda.get_device_name(0))\n"
   ]
  },
  {
   "cell_type": "markdown",
   "id": "aceb327a-8f7a-46ea-b7c1-040a4cb7ca8e",
   "metadata": {},
   "source": [
    "**NOTE:**\n",
    "\n",
    "No environment varibales because entire setup is local\n"
   ]
  },
  {
   "cell_type": "markdown",
   "id": "eff49a24-ff4f-4043-8d01-95ef05d7774a",
   "metadata": {},
   "source": [
    "## 📌 Task 1: Document Loading and Preprocessing \n",
    "\n",
    "- Select a document in PDF, TXT, or DOCX format related to a professional or creative field (e.g., HR policy, legal documentation, training material, or artistic critique). \n",
    "- Load the document using LangChain loaders such as PyMuPDFLoader or UnstructuredFileLoader. \n",
    "- Preprocess the text using RecursiveCharacterTextSplitter to divide content into meaningful chunks (approximately 500 tokens each). \n",
    "- Display at least three representative chunks from the processed text. "
   ]
  },
  {
   "cell_type": "code",
   "execution_count": 5,
   "id": "eabec8ce-209f-402f-af55-937b1f9ad26a",
   "metadata": {},
   "outputs": [
    {
     "name": "stdout",
     "output_type": "stream",
     "text": [
      "Total pages: 24\n",
      "\n"
     ]
    }
   ],
   "source": [
    "# Load PDF\n",
    "# --------\n",
    "\n",
    "pdf_path = \"company_policy.pdf\"  # Update this if the path differs\n",
    "loader = PyMuPDFLoader(pdf_path)\n",
    "documents = loader.load()\n",
    "\n",
    "print(f\"Total pages: {len(documents)}\\n\") # 1 LangChain document per page\n"
   ]
  },
  {
   "cell_type": "code",
   "execution_count": 6,
   "id": "2b70d2bc-e744-41e1-a710-bb9d4fddaf20",
   "metadata": {},
   "outputs": [
    {
     "name": "stdout",
     "output_type": "stream",
     "text": [
      "=== Page 1 Contents ===\n",
      "SPIL Corporate HR Policies  \n",
      " \n",
      " \n",
      "SIRCA PAINTS INDIA LTD \n",
      "NEW DELHI  \n",
      " \n",
      " \n",
      " \n",
      " \n",
      "CORPORATE  \n",
      "  HUMAN RESOURCES \n",
      "POLICIES & MANUALS ...\n"
     ]
    }
   ],
   "source": [
    "print(\"=== Page 1 Contents ===\")\n",
    "print(documents[0].page_content[:1000], \"...\")   # preview first 1 000 chars\n"
   ]
  },
  {
   "cell_type": "code",
   "execution_count": 7,
   "id": "5eb972ac-99ed-479b-8c08-0cb426e5b136",
   "metadata": {},
   "outputs": [
    {
     "name": "stdout",
     "output_type": "stream",
     "text": [
      "=== Page 2 Contents ===\n",
      "SPIL Corporate HR Policies  \n",
      " \n",
      " \n",
      " \n",
      " \n",
      "Section 1: Introduction  \n",
      " \n",
      "This handbook is the summary of the policies, procedures, guidance and benefits to the employees \n",
      "and organization. It is an introduction to our vision, mission, values, what you expect from us and \n",
      "what we expect from you. We believe that employees are the assets of the organization and to \n",
      "understand them the positive work environment play an important role. \n",
      " \n",
      "This Employee Hand Book(EHB) is the confidential property of Sirca Paints India Limited (SPIL) \n",
      " \n",
      "and any use, distributing, copying or disclosure by any person to outsiders without any proper \n",
      "authorization is strictly prohibited. \n",
      " \n",
      "Any query or doubt concerning the content of the EHB should be forwarded to the Human \n",
      "Resources Department of SPIL.  \n",
      " \n",
      "Applicability  \n",
      " \n",
      "This EHB will be applicable to the employees working in Sirca Paints India Limited (SPIL) w.e.f \n",
      "August 21, 2020. This book contains all the notices/circulars/extracts/meetings circulated earlier ...\n"
     ]
    }
   ],
   "source": [
    "print(\"=== Page 2 Contents ===\")\n",
    "print(documents[1].page_content[:1000], \"...\")   # preview first 1 000 chars\n"
   ]
  },
  {
   "cell_type": "code",
   "execution_count": 8,
   "id": "c032a13d-fb2c-4dd1-978e-829a9c3316fd",
   "metadata": {},
   "outputs": [
    {
     "name": "stdout",
     "output_type": "stream",
     "text": [
      "Total chunks created: 122\n",
      "\n"
     ]
    }
   ],
   "source": [
    "# Split into Chunks\n",
    "# -----------------\n",
    "\n",
    "splitter = RecursiveCharacterTextSplitter(\n",
    "    chunk_size    = 500,\n",
    "    chunk_overlap = 100,\n",
    "    #separators    = [\"\\n\\n\", \"\\n\", \".\", \" \", \"\"],   # fall-back hierarchy\n",
    ")\n",
    "\n",
    "chunks = splitter.split_documents(documents)\n",
    "\n",
    "print(f\"Total chunks created: {len(chunks)}\\n\")\n"
   ]
  },
  {
   "cell_type": "code",
   "execution_count": 9,
   "id": "0b32c29c-56c5-4be4-912b-424fc23c0b1d",
   "metadata": {},
   "outputs": [
    {
     "name": "stdout",
     "output_type": "stream",
     "text": [
      "=== Chunk 1 ===\n",
      "SPIL Corporate HR Policies  \n",
      " \n",
      " \n",
      "SIRCA PAINTS INDIA LTD \n",
      "NEW DELHI  \n",
      " \n",
      " \n",
      " \n",
      " \n",
      "CORPORATE  \n",
      "  HUMAN RESOURCES \n",
      "POLICIES & MANUALS\n"
     ]
    }
   ],
   "source": [
    "print(\"=== Chunk 1 ===\")\n",
    "print(chunks[0].page_content)\n"
   ]
  },
  {
   "cell_type": "code",
   "execution_count": 10,
   "id": "ff48069e-2e0a-460b-9182-4f758d3d31a4",
   "metadata": {},
   "outputs": [
    {
     "name": "stdout",
     "output_type": "stream",
     "text": [
      "\n",
      "=== Chunk 2 ===\n",
      "SPIL Corporate HR Policies  \n",
      " \n",
      " \n",
      " \n",
      " \n",
      "Section 1: Introduction  \n",
      " \n",
      "This handbook is the summary of the policies, procedures, guidance and benefits to the employees \n",
      "and organization. It is an introduction to our vision, mission, values, what you expect from us and \n",
      "what we expect from you. We believe that employees are the assets of the organization and to \n",
      "understand them the positive work environment play an important role.\n"
     ]
    }
   ],
   "source": [
    "print(\"\\n=== Chunk 2 ===\")\n",
    "print(chunks[1].page_content)\n"
   ]
  },
  {
   "cell_type": "code",
   "execution_count": 11,
   "id": "50149117-30dd-4293-a75d-ae389a026037",
   "metadata": {},
   "outputs": [
    {
     "name": "stdout",
     "output_type": "stream",
     "text": [
      "\n",
      "=== Last Chunk ===\n",
      "Section : 20  Review and Amendment  \n",
      "Management shall review this policy periodically and amendments required, if any shall be made \n",
      "accordingly.  \n",
      "Section : 21 Residual Power \n",
      "This policy is basically guidelines and the management reserves the right to withdraw / modify to \n",
      "suit organization’s philosophy at any time without assigning any reason whatsoever. \n",
      "EFFECTIVE \n",
      "Commencement Of Policy  \n",
      "August 21, 2018  \n",
      " \n",
      " \n",
      " \n",
      "Approved By : ___________SD/-_______________ \n",
      "Mr Sanjay Agarwal - CMD\n"
     ]
    }
   ],
   "source": [
    "print(\"\\n=== Last Chunk ===\")\n",
    "print(chunks[-1].page_content)\n"
   ]
  },
  {
   "cell_type": "markdown",
   "id": "57827816-ec09-4cee-b5dd-38d3b6127072",
   "metadata": {},
   "source": [
    "## 📌 Task 2: Text Embedding and Vector Store Setup \n",
    "\n",
    "- Use a model such as OpenAIEmbeddings, InstructorEmbeddings, or an equivalent HuggingFace embedding model to generate vector representations of each chunk. \n",
    "- Store the embeddings in a vector database such as FAISS or ChromaDB. \n",
    "- Execute a semantic search query and retrieve the top three most relevant document chunks. \n",
    "- Present the query, the retrieved results, and a brief explanation of your embedding and vector search setup."
   ]
  },
  {
   "cell_type": "code",
   "execution_count": 12,
   "id": "76bc2b77-4383-4f22-8d6d-7d28318ab024",
   "metadata": {},
   "outputs": [
    {
     "name": "stderr",
     "output_type": "stream",
     "text": [
      "C:\\Users\\Alkaff\\AppData\\Local\\Temp\\ipykernel_18312\\1274901052.py:4: LangChainDeprecationWarning: The class `HuggingFaceEmbeddings` was deprecated in LangChain 0.2.2 and will be removed in 1.0. An updated version of the class exists in the :class:`~langchain-huggingface package and should be used instead. To use it run `pip install -U :class:`~langchain-huggingface` and import as `from :class:`~langchain_huggingface import HuggingFaceEmbeddings``.\n",
      "  embedder = HuggingFaceEmbeddings(\n"
     ]
    }
   ],
   "source": [
    "# Embedding - BGE Small\n",
    "# ---------------------\n",
    "\n",
    "embedder = HuggingFaceEmbeddings(\n",
    "    model_name=\"BAAI/bge-small-en-v1.5\",\n",
    "    model_kwargs={\"device\": \"cpu\"}        # use \"cuda\" if you prefer GPU\n",
    ")\n"
   ]
  },
  {
   "cell_type": "code",
   "execution_count": 13,
   "id": "9afe56f5-6c90-4075-abdc-8bb0d2b1384e",
   "metadata": {},
   "outputs": [],
   "source": [
    "# Vector DB - FAISS\n",
    "# -----------------\n",
    "\n",
    "vector_db = FAISS.from_documents(chunks, embedder)\n"
   ]
  },
  {
   "cell_type": "code",
   "execution_count": 14,
   "id": "8856182c-1c8e-44a5-825e-a2c9cd1771e3",
   "metadata": {},
   "outputs": [
    {
     "name": "stdout",
     "output_type": "stream",
     "text": [
      "Query: What is the probation period for new employees?\n",
      "\n",
      "=== Result 1 ===\n",
      "a) Appointment Letter given at the time of joining shows the clause of Probation Period. Every \n",
      "Employee has to complete the Probation Period on the basis of the following parameters.  \n",
      "Job Knowledge, Quality of Work, Initiative and Creativity, Punctuality, Interpersonal Skills  \n",
      "b) On the beginning of the six month, the email will given to the Departmental Heads for the \n",
      "assessment of the new entrants on the above parameters. ...\n",
      "\n",
      "=== Result 2 ===\n",
      "SPIL Corporate HR Policies  \n",
      " \n",
      " \n",
      " \n",
      "b) The main purpose of the probation period is to bring an effective employee on board and \n",
      "thorough monitoring and performance management process. \n",
      " \n",
      "c) It covers all the on roll new entrants in the organization and the candidate will be on \n",
      "probation of six months  \n",
      " \n",
      "Process of Confirmation  \n",
      "a) Appointment Letter given at the time of joining shows the clause of Probation Period. Every ...\n",
      "\n",
      "=== Result 3 ===\n",
      "productivity.  \n",
      " \n",
      "f) If the category earn was below “Average” then the extension for the probation of minimum of 1 \n",
      "month and maximum of 3 months will be issued.  \n",
      " \n",
      "g) The employee has to submit the acknowledgement copy of the probation for the record \n",
      "purpose.  \n",
      " \n",
      "Section 6: Attendance & Leave Management  \n",
      " \n",
      "a) Employees are required to register their attendance electronically while reporting to work and ...\n",
      "\n"
     ]
    }
   ],
   "source": [
    "# Semantic Search Query\n",
    "# ---------------------\n",
    "\n",
    "query = \"What is the probation period for new employees?\"\n",
    "results: list[Document] = vector_db.similarity_search(query, k=3)\n",
    "\n",
    "print(f\"Query: {query}\\n\")\n",
    "for i, doc in enumerate(results, 1):\n",
    "    print(f\"=== Result {i} ===\")\n",
    "    print(doc.page_content[:800], \"...\\n\")\n"
   ]
  },
  {
   "cell_type": "markdown",
   "id": "fbb198b1-0af8-4655-91a2-35ddf79f7207",
   "metadata": {},
   "source": [
    "### ✍️ Explanation (brief, for the rubric)\n",
    "\n",
    "- **Embedding model**: `BAAI/bge-small-en-v1.5` (104 M params). Chosen because it’s state-of-the-art for English semantic similarity, light-weight and runs locally (no cloud/API keys).\n",
    "- **Vector DB**: **FAISS** in L2-normalized cosine space. Chosen for single-file persistence, speed, and zero server overhead.\n",
    "- **Workflow**\n",
    "  1. Every ~500-token chunk from Task 1 is embedded into a 768-dimensional vector.\n",
    "  2. Vectors are indexed with FAISS’s `IndexFlatIP` (inner-product) backend.\n",
    "  3. A user query is embedded the same way; FAISS returns the top-k nearest vectors, which we map back to the original chunk text.\n"
   ]
  },
  {
   "cell_type": "markdown",
   "id": "b043a042-45a4-41f6-a173-794a5ceadb7e",
   "metadata": {},
   "source": [
    "## 📌 Task 3: Retrieval-Augmented Generation with Conversational Memory \n",
    "\n",
    "- Integrate the vector store with a language model (e.g., GPT-3.5 or GPT-4) using LangChain’s RetrievalQA or conversationalRetrievalChain. \n",
    "- Add memory capability using ConversationBufferMemory or a similar tool. \n",
    "- Simulate a three-turn conversation where each user query builds upon previous context. Ensure that the assistant references retrieved document content accurately. \n",
    "- Highlight how conversational memory was used to enhance context-awareness and continuity."
   ]
  },
  {
   "cell_type": "code",
   "execution_count": 15,
   "id": "aa27b300-ebfd-432f-81ad-51536bd82f14",
   "metadata": {},
   "outputs": [
    {
     "name": "stderr",
     "output_type": "stream",
     "text": [
      "Device set to use cpu\n",
      "C:\\Users\\Alkaff\\AppData\\Local\\Temp\\ipykernel_18312\\2295306662.py:22: LangChainDeprecationWarning: The class `HuggingFacePipeline` was deprecated in LangChain 0.0.37 and will be removed in 1.0. An updated version of the class exists in the :class:`~langchain-huggingface package and should be used instead. To use it run `pip install -U :class:`~langchain-huggingface` and import as `from :class:`~langchain_huggingface import HuggingFacePipeline``.\n",
      "  llm = HuggingFacePipeline(pipeline=gen_pipe)\n"
     ]
    }
   ],
   "source": [
    "# Load LLM - Qwen 1.5 1.8B Chat\n",
    "# -----------------------------\n",
    "\n",
    "model_id = \"Qwen/Qwen1.5-1.8B-Chat\"\n",
    "tok  = AutoTokenizer.from_pretrained(model_id, trust_remote_code=True)\n",
    "model = AutoModelForCausalLM.from_pretrained(\n",
    "            model_id,\n",
    "            trust_remote_code=True,\n",
    "            device_map=\"auto\",          # \"cuda\" if GPU, else \"cpu\"\n",
    "            torch_dtype=\"auto\"\n",
    "        )\n",
    "\n",
    "gen_pipe = pipeline(\n",
    "    \"text-generation\",\n",
    "    model=model,\n",
    "    tokenizer=tok,\n",
    "    max_new_tokens=512,\n",
    "    temperature=0.2,\n",
    "    #device=0  # device=0 for GPU\n",
    ")\n",
    "\n",
    "llm = HuggingFacePipeline(pipeline=gen_pipe)\n"
   ]
  },
  {
   "cell_type": "code",
   "execution_count": 16,
   "id": "438d2947-b443-4bd9-abaa-63c3b969cc19",
   "metadata": {},
   "outputs": [
    {
     "name": "stderr",
     "output_type": "stream",
     "text": [
      "C:\\Users\\Alkaff\\AppData\\Local\\Temp\\ipykernel_18312\\3852693771.py:6: LangChainDeprecationWarning: Please see the migration guide at: https://python.langchain.com/docs/versions/migrating_memory/\n",
      "  memory = ConversationBufferMemory(\n"
     ]
    }
   ],
   "source": [
    "# Setup Retriever and Memory\n",
    "# --------------------------\n",
    "\n",
    "retriever = vector_db.as_retriever(search_kwargs={\"k\": 3})\n",
    "\n",
    "memory = ConversationBufferMemory(\n",
    "    memory_key=\"chat_history\",\n",
    "    return_messages=True,\n",
    "    output_key      = \"answer\"\n",
    ")\n"
   ]
  },
  {
   "cell_type": "code",
   "execution_count": 17,
   "id": "81d9a66d-1814-43d1-aef4-7a2d615a5eda",
   "metadata": {},
   "outputs": [],
   "source": [
    "# Build the RAG Chain\n",
    "\n",
    "rag_chain = ConversationalRetrievalChain.from_llm(\n",
    "    llm          = llm,\n",
    "    retriever    = retriever,\n",
    "    memory       = memory,\n",
    "    #verbose      = True,\n",
    "    return_source_documents = True\n",
    ")\n",
    "\n",
    "def rag_agent(query):\n",
    "    response = rag_chain.invoke({\"question\": query})   # <-- use .invoke()\n",
    "\n",
    "    raw_answer = response[\"answer\"]\n",
    "    sources    = response.get(\"source_documents\", [])\n",
    "\n",
    "    # Remove the unnecessary junk\n",
    "    if \"Helpful Answer:\" in raw_answer:\n",
    "        answer = raw_answer.split(\"Helpful Answer:\")[-1].strip()\n",
    "    else:\n",
    "        answer = raw_answer.strip()\n",
    "\n",
    "    # Print Everything\n",
    "    print(f\"\\n🗣️  USER: {query}\\n\")\n",
    "    print(f\"🤖 AGENT:\\n{answer}\\n\")\n",
    "    \n",
    "    if sources:\n",
    "        print(\"📚  Source chunks used:\")\n",
    "        for idx, doc in enumerate(sources, 1):\n",
    "            preview = doc.page_content[:250].replace(\"\\n\", \" \")\n",
    "            print(f\"  [{idx}] {preview} ...\")\n",
    "    else:\n",
    "        print(\"📚  No source chunks returned.\")\n"
   ]
  },
  {
   "cell_type": "code",
   "execution_count": 18,
   "id": "8802eacf-6ceb-4c62-9e36-6cc5cdf6e4dd",
   "metadata": {},
   "outputs": [
    {
     "name": "stdout",
     "output_type": "stream",
     "text": [
      "\n",
      "🗣️  USER: Summarise the probation policy for new hires.\n",
      "\n",
      "🤖 AGENT:\n",
      "c) It covers all the on roll new entrants in the organization and the candidate will be on probation of six months. The main purpose of the probation period is to bring an effective employee on board and thorough monitoring and performance management process. The department head will assess the performance and submit the review of the employee to the HR Department. The employee has to earn the minimum category of \"Average\" and maximum category of \"Excellent\" for the confirmation. Depending on the performance of the probationers and discretion of the management, the probationer's compensation, grade, designation can be reviewed for motivation and better productivity.\n",
      "\n",
      "📚  Source chunks used:\n",
      "  [1] a) Appointment Letter given at the time of joining shows the clause of Probation Period. Every  Employee has to complete the Probation Period on the basis of the following parameters.   Job Knowledge, Quality of Work, Initiative and Creativity, Punct ...\n",
      "  [2] SPIL Corporate HR Policies         b) The main purpose of the probation period is to bring an effective employee on board and  thorough monitoring and performance management process.    c) It covers all the on roll new entrants in the organization an ...\n",
      "  [3] assessment of the new entrants on the above parameters.     c) The Department Head will assess the performance and submit the review of the employee to  the HR Department.     d) Employee has to earn the minimum category of “Average” and maximum cate ...\n"
     ]
    }
   ],
   "source": [
    "# Turn 1\n",
    "# ------\n",
    "\n",
    "rag_agent(\"Summarise the probation policy for new hires.\")\n"
   ]
  },
  {
   "cell_type": "code",
   "execution_count": 19,
   "id": "01c41d07-2586-4f65-b2ea-eab837f71314",
   "metadata": {},
   "outputs": [
    {
     "name": "stdout",
     "output_type": "stream",
     "text": [
      "\n",
      "🗣️  USER: Does the policy mention how performance is evaluated during probation?\n",
      "\n",
      "🤖 AGENT:\n",
      "Yes, the policy mentions that the performance of the probationers is evaluated by the department head and submitted to the HR Department for review. The employee has to earn the minimum category of \"Average\" and maximum category of \"Excellent\" for the confirmation, depending on their performance during the probation period. This evaluation is crucial as it helps in determining the employee's eligibility for promotion or further development within the company. The HR department reviews the performance based on these criteria and provides feedback to both the employee and the department head to ensure continuous improvement and growth.\n",
      "\n",
      "📚  Source chunks used:\n",
      "  [1] SPIL Corporate HR Policies         b) The main purpose of the probation period is to bring an effective employee on board and  thorough monitoring and performance management process.    c) It covers all the on roll new entrants in the organization an ...\n",
      "  [2] a) Appointment Letter given at the time of joining shows the clause of Probation Period. Every  Employee has to complete the Probation Period on the basis of the following parameters.   Job Knowledge, Quality of Work, Initiative and Creativity, Punct ...\n",
      "  [3] assessment of the new entrants on the above parameters.     c) The Department Head will assess the performance and submit the review of the employee to  the HR Department.     d) Employee has to earn the minimum category of “Average” and maximum cate ...\n"
     ]
    }
   ],
   "source": [
    "# Turn 2\n",
    "# ------\n",
    "\n",
    "rag_agent(\"Does the policy mention how performance is evaluated during probation?\")\n"
   ]
  },
  {
   "cell_type": "code",
   "execution_count": 20,
   "id": "87eb5c14-a6e0-4ed0-85c7-a2ecd558b22a",
   "metadata": {},
   "outputs": [
    {
     "name": "stdout",
     "output_type": "stream",
     "text": [
      "\n",
      "🗣️  USER: Based on that, what happens if an employee's performance is below expectations?\n",
      "\n",
      "🤖 AGENT:\n",
      "If an employee's performance is below expectations, they may face a probationary period during which they are expected to improve their skills and meet the required standards set by the company. During this period, the employee may receive additional training, mentorship, or coaching from experienced colleagues to help them enhance their performance. The probationary period typically lasts for six months, after which the HR department will evaluate the employee's progress and determine whether they have met the necessary criteria for promotion or further development within the company. If the employee fails to meet the expectations, their performance may be reviewed again, and if necessary, they may be terminated or offered a lower position with less responsibilities. The goal of the probationary period is to provide an opportunity for employees to learn from their mistakes, identify areas for improvement, and ultimately contribute more effectively to the company's success.\n",
      "\n",
      "📚  Source chunks used:\n",
      "  [1] SPIL Corporate HR Policies         b) The main purpose of the probation period is to bring an effective employee on board and  thorough monitoring and performance management process.    c) It covers all the on roll new entrants in the organization an ...\n",
      "  [2] a) Appointment Letter given at the time of joining shows the clause of Probation Period. Every  Employee has to complete the Probation Period on the basis of the following parameters.   Job Knowledge, Quality of Work, Initiative and Creativity, Punct ...\n",
      "  [3] assessment of the new entrants on the above parameters.     c) The Department Head will assess the performance and submit the review of the employee to  the HR Department.     d) Employee has to earn the minimum category of “Average” and maximum cate ...\n"
     ]
    }
   ],
   "source": [
    "# Turn 3\n",
    "# ------\n",
    "\n",
    "rag_agent(\"Based on that, what happens if an employee's performance is below expectations?\")\n"
   ]
  },
  {
   "cell_type": "code",
   "execution_count": 26,
   "id": "f3135bc1-3a3c-4251-8c7f-b58286034856",
   "metadata": {},
   "outputs": [
    {
     "name": "stdout",
     "output_type": "stream",
     "text": [
      "[0]  content='Summarise the probation policy for new hires.' additional_kwargs={} response_metadata={}\n",
      "\n",
      "[1]  content='Use the following pieces of context to answer the question at the end. If you don\\'t know the answer, just say that you don\\'t know, don\\'t try to make up an answer.\\n\\na) Appointment Letter given at the time of joining shows the clause of Probation Period. Every \\nEmployee has to complete the Probation Period on the basis of the following parameters.  \\nJob Knowledge, Quality of Work, Initiative and Creativity, Punctuality, Interpersonal Skills  \\nb) On the beginning of the six month, the email will given to the Departmental Heads for the \\nassessment of the new entrants on the above parameters.\\n\\nSPIL Corporate HR Policies  \\n \\n \\n \\nb) The main purpose of the probation period is to bring an effective employee on board and \\nthorough monitoring and performance management process. \\n \\nc) It covers all the on roll new entrants in the organization and the candidate will be on \\nprobation of six months  \\n \\nProcess of Confirmation  \\na) Appointment Letter given at the time of joining shows the clause of Probation Period. Every\\n\\nassessment of the new entrants on the above parameters.  \\n \\nc) The Department Head will assess the performance and submit the review of the employee to \\nthe HR Department.  \\n \\nd) Employee has to earn the minimum category of “Average” and maximum category of \\n“Excellent” for the confirmation.  \\n \\ne) Depend upon the performance of the probationers and discretion of the management, the \\nprobationer’s compensation, grade, designation can be reviewed for motivation and better \\nproductivity.\\n\\nQuestion: Summarise the probation policy for new hires.\\nHelpful Answer: c) It covers all the on roll new entrants in the organization and the candidate will be on probation of six months. The main purpose of the probation period is to bring an effective employee on board and thorough monitoring and performance management process. The department head will assess the performance and submit the review of the employee to the HR Department. The employee has to earn the minimum category of \"Average\" and maximum category of \"Excellent\" for the confirmation. Depending on the performance of the probationers and discretion of the management, the probationer\\'s compensation, grade, designation can be reviewed for motivation and better productivity.' additional_kwargs={} response_metadata={}\n",
      "\n",
      "[2]  content='Does the policy mention how performance is evaluated during probation?' additional_kwargs={} response_metadata={}\n",
      "\n",
      "[3]  content='Use the following pieces of context to answer the question at the end. If you don\\'t know the answer, just say that you don\\'t know, don\\'t try to make up an answer.\\n\\nSPIL Corporate HR Policies  \\n \\n \\n \\nb) The main purpose of the probation period is to bring an effective employee on board and \\nthorough monitoring and performance management process. \\n \\nc) It covers all the on roll new entrants in the organization and the candidate will be on \\nprobation of six months  \\n \\nProcess of Confirmation  \\na) Appointment Letter given at the time of joining shows the clause of Probation Period. Every\\n\\na) Appointment Letter given at the time of joining shows the clause of Probation Period. Every \\nEmployee has to complete the Probation Period on the basis of the following parameters.  \\nJob Knowledge, Quality of Work, Initiative and Creativity, Punctuality, Interpersonal Skills  \\nb) On the beginning of the six month, the email will given to the Departmental Heads for the \\nassessment of the new entrants on the above parameters.\\n\\nassessment of the new entrants on the above parameters.  \\n \\nc) The Department Head will assess the performance and submit the review of the employee to \\nthe HR Department.  \\n \\nd) Employee has to earn the minimum category of “Average” and maximum category of \\n“Excellent” for the confirmation.  \\n \\ne) Depend upon the performance of the probationers and discretion of the management, the \\nprobationer’s compensation, grade, designation can be reviewed for motivation and better \\nproductivity.\\n\\nQuestion: Given the following conversation and a follow up question, rephrase the follow up question to be a standalone question, in its original language.\\n\\nChat History:\\n\\nHuman: Summarise the probation policy for new hires.\\nAssistant: Use the following pieces of context to answer the question at the end. If you don\\'t know the answer, just say that you don\\'t know, don\\'t try to make up an answer.\\n\\na) Appointment Letter given at the time of joining shows the clause of Probation Period. Every \\nEmployee has to complete the Probation Period on the basis of the following parameters.  \\nJob Knowledge, Quality of Work, Initiative and Creativity, Punctuality, Interpersonal Skills  \\nb) On the beginning of the six month, the email will given to the Departmental Heads for the \\nassessment of the new entrants on the above parameters.\\n\\nSPIL Corporate HR Policies  \\n \\n \\n \\nb) The main purpose of the probation period is to bring an effective employee on board and \\nthorough monitoring and performance management process. \\n \\nc) It covers all the on roll new entrants in the organization and the candidate will be on \\nprobation of six months  \\n \\nProcess of Confirmation  \\na) Appointment Letter given at the time of joining shows the clause of Probation Period. Every\\n\\nassessment of the new entrants on the above parameters.  \\n \\nc) The Department Head will assess the performance and submit the review of the employee to \\nthe HR Department.  \\n \\nd) Employee has to earn the minimum category of “Average” and maximum category of \\n“Excellent” for the confirmation.  \\n \\ne) Depend upon the performance of the probationers and discretion of the management, the \\nprobationer’s compensation, grade, designation can be reviewed for motivation and better \\nproductivity.\\n\\nQuestion: Summarise the probation policy for new hires.\\nHelpful Answer: c) It covers all the on roll new entrants in the organization and the candidate will be on probation of six months. The main purpose of the probation period is to bring an effective employee on board and thorough monitoring and performance management process. The department head will assess the performance and submit the review of the employee to the HR Department. The employee has to earn the minimum category of \"Average\" and maximum category of \"Excellent\" for the confirmation. Depending on the performance of the probationers and discretion of the management, the probationer\\'s compensation, grade, designation can be reviewed for motivation and better productivity.\\nFollow Up Input: Does the policy mention how performance is evaluated during probation?\\nStandalone question: How is performance evaluated during probation?\\nHelpful Answer: Yes, the policy mentions that the performance of the probationers is evaluated by the department head and submitted to the HR Department for review. The employee has to earn the minimum category of \"Average\" and maximum category of \"Excellent\" for the confirmation, depending on their performance during the probation period. This evaluation is crucial as it helps in determining the employee\\'s eligibility for promotion or further development within the company. The HR department reviews the performance based on these criteria and provides feedback to both the employee and the department head to ensure continuous improvement and growth.' additional_kwargs={} response_metadata={}\n",
      "\n",
      "[4]  content=\"Based on that, what happens if an employee's performance is below expectations?\" additional_kwargs={} response_metadata={}\n",
      "\n",
      "[5]  content='Use the following pieces of context to answer the question at the end. If you don\\'t know the answer, just say that you don\\'t know, don\\'t try to make up an answer.\\n\\nSPIL Corporate HR Policies  \\n \\n \\n \\nb) The main purpose of the probation period is to bring an effective employee on board and \\nthorough monitoring and performance management process. \\n \\nc) It covers all the on roll new entrants in the organization and the candidate will be on \\nprobation of six months  \\n \\nProcess of Confirmation  \\na) Appointment Letter given at the time of joining shows the clause of Probation Period. Every\\n\\na) Appointment Letter given at the time of joining shows the clause of Probation Period. Every \\nEmployee has to complete the Probation Period on the basis of the following parameters.  \\nJob Knowledge, Quality of Work, Initiative and Creativity, Punctuality, Interpersonal Skills  \\nb) On the beginning of the six month, the email will given to the Departmental Heads for the \\nassessment of the new entrants on the above parameters.\\n\\nassessment of the new entrants on the above parameters.  \\n \\nc) The Department Head will assess the performance and submit the review of the employee to \\nthe HR Department.  \\n \\nd) Employee has to earn the minimum category of “Average” and maximum category of \\n“Excellent” for the confirmation.  \\n \\ne) Depend upon the performance of the probationers and discretion of the management, the \\nprobationer’s compensation, grade, designation can be reviewed for motivation and better \\nproductivity.\\n\\nQuestion: Given the following conversation and a follow up question, rephrase the follow up question to be a standalone question, in its original language.\\n\\nChat History:\\n\\nHuman: Summarise the probation policy for new hires.\\nAssistant: Use the following pieces of context to answer the question at the end. If you don\\'t know the answer, just say that you don\\'t know, don\\'t try to make up an answer.\\n\\na) Appointment Letter given at the time of joining shows the clause of Probation Period. Every \\nEmployee has to complete the Probation Period on the basis of the following parameters.  \\nJob Knowledge, Quality of Work, Initiative and Creativity, Punctuality, Interpersonal Skills  \\nb) On the beginning of the six month, the email will given to the Departmental Heads for the \\nassessment of the new entrants on the above parameters.\\n\\nSPIL Corporate HR Policies  \\n \\n \\n \\nb) The main purpose of the probation period is to bring an effective employee on board and \\nthorough monitoring and performance management process. \\n \\nc) It covers all the on roll new entrants in the organization and the candidate will be on \\nprobation of six months  \\n \\nProcess of Confirmation  \\na) Appointment Letter given at the time of joining shows the clause of Probation Period. Every\\n\\nassessment of the new entrants on the above parameters.  \\n \\nc) The Department Head will assess the performance and submit the review of the employee to \\nthe HR Department.  \\n \\nd) Employee has to earn the minimum category of “Average” and maximum category of \\n“Excellent” for the confirmation.  \\n \\ne) Depend upon the performance of the probationers and discretion of the management, the \\nprobationer’s compensation, grade, designation can be reviewed for motivation and better \\nproductivity.\\n\\nQuestion: Summarise the probation policy for new hires.\\nHelpful Answer: c) It covers all the on roll new entrants in the organization and the candidate will be on probation of six months. The main purpose of the probation period is to bring an effective employee on board and thorough monitoring and performance management process. The department head will assess the performance and submit the review of the employee to the HR Department. The employee has to earn the minimum category of \"Average\" and maximum category of \"Excellent\" for the confirmation. Depending on the performance of the probationers and discretion of the management, the probationer\\'s compensation, grade, designation can be reviewed for motivation and better productivity.\\nHuman: Does the policy mention how performance is evaluated during probation?\\nAssistant: Use the following pieces of context to answer the question at the end. If you don\\'t know the answer, just say that you don\\'t know, don\\'t try to make up an answer.\\n\\nSPIL Corporate HR Policies  \\n \\n \\n \\nb) The main purpose of the probation period is to bring an effective employee on board and \\nthorough monitoring and performance management process. \\n \\nc) It covers all the on roll new entrants in the organization and the candidate will be on \\nprobation of six months  \\n \\nProcess of Confirmation  \\na) Appointment Letter given at the time of joining shows the clause of Probation Period. Every\\n\\na) Appointment Letter given at the time of joining shows the clause of Probation Period. Every \\nEmployee has to complete the Probation Period on the basis of the following parameters.  \\nJob Knowledge, Quality of Work, Initiative and Creativity, Punctuality, Interpersonal Skills  \\nb) On the beginning of the six month, the email will given to the Departmental Heads for the \\nassessment of the new entrants on the above parameters.\\n\\nassessment of the new entrants on the above parameters.  \\n \\nc) The Department Head will assess the performance and submit the review of the employee to \\nthe HR Department.  \\n \\nd) Employee has to earn the minimum category of “Average” and maximum category of \\n“Excellent” for the confirmation.  \\n \\ne) Depend upon the performance of the probationers and discretion of the management, the \\nprobationer’s compensation, grade, designation can be reviewed for motivation and better \\nproductivity.\\n\\nQuestion: Given the following conversation and a follow up question, rephrase the follow up question to be a standalone question, in its original language.\\n\\nChat History:\\n\\nHuman: Summarise the probation policy for new hires.\\nAssistant: Use the following pieces of context to answer the question at the end. If you don\\'t know the answer, just say that you don\\'t know, don\\'t try to make up an answer.\\n\\na) Appointment Letter given at the time of joining shows the clause of Probation Period. Every \\nEmployee has to complete the Probation Period on the basis of the following parameters.  \\nJob Knowledge, Quality of Work, Initiative and Creativity, Punctuality, Interpersonal Skills  \\nb) On the beginning of the six month, the email will given to the Departmental Heads for the \\nassessment of the new entrants on the above parameters.\\n\\nSPIL Corporate HR Policies  \\n \\n \\n \\nb) The main purpose of the probation period is to bring an effective employee on board and \\nthorough monitoring and performance management process. \\n \\nc) It covers all the on roll new entrants in the organization and the candidate will be on \\nprobation of six months  \\n \\nProcess of Confirmation  \\na) Appointment Letter given at the time of joining shows the clause of Probation Period. Every\\n\\nassessment of the new entrants on the above parameters.  \\n \\nc) The Department Head will assess the performance and submit the review of the employee to \\nthe HR Department.  \\n \\nd) Employee has to earn the minimum category of “Average” and maximum category of \\n“Excellent” for the confirmation.  \\n \\ne) Depend upon the performance of the probationers and discretion of the management, the \\nprobationer’s compensation, grade, designation can be reviewed for motivation and better \\nproductivity.\\n\\nQuestion: Summarise the probation policy for new hires.\\nHelpful Answer: c) It covers all the on roll new entrants in the organization and the candidate will be on probation of six months. The main purpose of the probation period is to bring an effective employee on board and thorough monitoring and performance management process. The department head will assess the performance and submit the review of the employee to the HR Department. The employee has to earn the minimum category of \"Average\" and maximum category of \"Excellent\" for the confirmation. Depending on the performance of the probationers and discretion of the management, the probationer\\'s compensation, grade, designation can be reviewed for motivation and better productivity.\\nFollow Up Input: Does the policy mention how performance is evaluated during probation?\\nStandalone question: How is performance evaluated during probation?\\nHelpful Answer: Yes, the policy mentions that the performance of the probationers is evaluated by the department head and submitted to the HR Department for review. The employee has to earn the minimum category of \"Average\" and maximum category of \"Excellent\" for the confirmation, depending on their performance during the probation period. This evaluation is crucial as it helps in determining the employee\\'s eligibility for promotion or further development within the company. The HR department reviews the performance based on these criteria and provides feedback to both the employee and the department head to ensure continuous improvement and growth.\\nFollow Up Input: Based on that, what happens if an employee\\'s performance is below expectations?\\nStandalone question: What happens if an employee\\'s performance is below expectations?\\nHelpful Answer: If an employee\\'s performance is below expectations, they may face a probationary period during which they are expected to improve their skills and meet the required standards set by the company. During this period, the employee may receive additional training, mentorship, or coaching from experienced colleagues to help them enhance their performance. The probationary period typically lasts for six months, after which the HR department will evaluate the employee\\'s progress and determine whether they have met the necessary criteria for promotion or further development within the company. If the employee fails to meet the expectations, their performance may be reviewed again, and if necessary, they may be terminated or offered a lower position with less responsibilities. The goal of the probationary period is to provide an opportunity for employees to learn from their mistakes, identify areas for improvement, and ultimately contribute more effectively to the company\\'s success.\\nHelpful Answer: If an employee\\'s performance is below expectations, they may face a probationary period during which they are expected to improve their skills and meet the required standards set by the company. During this period, the employee may receive additional training, mentorship, or coaching from experienced colleagues to help them enhance their performance. The probationary period typically lasts for six months, after which the HR department will evaluate the employee\\'s progress and determine whether they have met the necessary criteria for promotion or further development within the company. If the employee fails to meet the expectations, their performance may be reviewed again, and if necessary, they may be terminated or offered a lower position with less responsibilities. The goal of the probationary period is to provide an opportunity for employees to learn from their mistakes, identify areas for improvement, and ultimately contribute more effectively to the company\\'s success.' additional_kwargs={} response_metadata={}\n",
      "\n"
     ]
    }
   ],
   "source": [
    "# Check Memory History\n",
    "# --------------------\n",
    "\n",
    "for i, m in enumerate(memory.load_memory_variables({})[\"chat_history\"]):\n",
    "    print(f\"[{i}]  {m}\\n\")\n"
   ]
  },
  {
   "cell_type": "markdown",
   "id": "4ebd9212-ccd6-442b-984e-2ced1d9e54f9",
   "metadata": {},
   "source": [
    "**How conversational memory improves continuity?**\n",
    "\n",
    " The `ConversationBufferMemory` keeps a running log of user-assistant messages (see cell above).\n",
    "\n",
    "- Turn 2 references “the policy” without re-stating which policy; because the buffer already contains turn 1, the chain can rewrite the follow-up question into a standalone form and retrieve the correct chunks.\n",
    "- Turn 3, user asks “Based on that…”, again relying on prior context kept in memory. Without the buffer, the retriever would not have enough information to link the pronoun “that” to the probation policy."
   ]
  },
  {
   "cell_type": "code",
   "execution_count": null,
   "id": "7d72244e-bc83-4ac6-9e40-4333d1f2f2e2",
   "metadata": {},
   "outputs": [],
   "source": []
  }
 ],
 "metadata": {
  "kernelspec": {
   "display_name": "Python 3 (ipykernel)",
   "language": "python",
   "name": "python3"
  },
  "language_info": {
   "codemirror_mode": {
    "name": "ipython",
    "version": 3
   },
   "file_extension": ".py",
   "mimetype": "text/x-python",
   "name": "python",
   "nbconvert_exporter": "python",
   "pygments_lexer": "ipython3",
   "version": "3.10.18"
  }
 },
 "nbformat": 4,
 "nbformat_minor": 5
}
